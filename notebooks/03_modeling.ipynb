{
 "cells": [
  {
   "cell_type": "markdown",
   "id": "137d4c3c-f7f3-4e45-b7f7-1c0144971d3a",
   "metadata": {},
   "source": [
    "# 🤖 Modelagem Supervisionada — Code Against Fraud\n",
    "\n",
    "🔗 **Objetivo:**  \n",
    "Desenvolver, treinar e avaliar modelos de machine learning para detecção de fraudes em transações financeiras, utilizando o dataset enriquecido pela etapa de Feature Engineering.\n",
    "\n",
    "---\n",
    "\n",
    "🗂️ **Etapas deste notebook:**  \n",
    "1. Carregamento do dataset final com as features geradas.  \n",
    "2. Separação dos dados em treino e teste (ou validação cruzada).  \n",
    "3. Treinamento de diferentes modelos de classificação:  \n",
    "   - Regressão Logística  \n",
    "   - Random Forest  \n",
    "   - XGBoost  \n",
    "   - Outros algoritmos, se aplicável  \n",
    "4. Avaliação dos modelos utilizando métricas:  \n",
    "   - Acurácia, Precisão, Recall, F1-Score  \n",
    "   - Matriz de confusão  \n",
    "   - Curva ROC e AUC  \n",
    "5. Seleção do modelo de melhor desempenho.  \n",
    "6. Salvamento do modelo para uso posterior.\n",
    "\n",
    "---\n",
    "\n",
    "🔧 **Fonte dos dados:**  \n",
    "- Dataset final armazenado no banco **DuckDB**, com todas as transformações e features aplicadas.\n",
    "\n",
    "---\n"
   ]
  },
  {
   "cell_type": "code",
   "execution_count": null,
   "id": "36185c9a-72ef-48c7-b71d-4bde343e0f8d",
   "metadata": {},
   "outputs": [],
   "source": []
  }
 ],
 "metadata": {
  "kernelspec": {
   "display_name": "Python (venv)",
   "language": "python",
   "name": "venv"
  },
  "language_info": {
   "codemirror_mode": {
    "name": "ipython",
    "version": 3
   },
   "file_extension": ".py",
   "mimetype": "text/x-python",
   "name": "python",
   "nbconvert_exporter": "python",
   "pygments_lexer": "ipython3",
   "version": "3.10.12"
  }
 },
 "nbformat": 4,
 "nbformat_minor": 5
}
